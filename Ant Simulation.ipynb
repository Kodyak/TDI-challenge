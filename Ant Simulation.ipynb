{
 "cells": [
  {
   "cell_type": "markdown",
   "metadata": {},
   "source": [
    "An ant is on a rectangular $n\\times m$ grid with southwest-most point $(0,0)$ and northeast-most point $(m,n)$. Starting at $(0,0)$, each time, the ant travels along a path walking north or east by a unit length on the grid with equal probability until it reaches $(m,n)$. Define the deviation $D$ of a path (from the straight path) as $\\max(\\tfrac{x}{m}− \\tfrac{y}{n},\\tfrac{y}{n}−\\tfrac{x}{m})$ for all points $(x,y)$ along the path.\n"
   ]
  },
  {
   "cell_type": "markdown",
   "metadata": {},
   "source": [
    "*Notes:* The ant walks a total of $n+m$ steps / trials. Each time it can either go up or right with equal likelihood"
   ]
  },
  {
   "cell_type": "code",
   "execution_count": 1,
   "metadata": {
    "collapsed": true
   },
   "outputs": [],
   "source": [
    "### Functions used to simulate the ant problem\n",
    "# not optimized version!\n",
    "\n",
    "\n",
    "from random import *\n",
    "\n",
    "### Simulate the ant path\n",
    "def ant_simulation(start_pos, end_pos):\n",
    "\n",
    "### \n",
    "# output: \n",
    "# list of vertices visited\n",
    "# want to measure deviation, can track the largest x or y..\n",
    "#\n",
    "# input:\n",
    "# start_pos = starting vertex = (0,0)\n",
    "# end_pos = ending point = (m,n)\n",
    "# p = probability of an ant choosing to walk to the right \n",
    "# p = 0.5 so just use uniform random generator\n",
    "#\n",
    "#\n",
    "# dependencies:\n",
    "# random\n",
    "     \n",
    "    # initailize output\n",
    "    path = [start_pos]\n",
    "    pos = list(start_pos) # initialize a position - for code readability\n",
    "    \n",
    "    ### walking\n",
    "    for i in range(sum(end_pos)): # m+n total # of steps\n",
    "        if pos[0] == end_pos[0]:\n",
    "            pos[1] += 1 # increment\n",
    "            path.append([pos[0],pos[1]]) # update\n",
    "        elif pos[1] == end_pos[1]:\n",
    "            pos[0] += 1 # increment\n",
    "            path.append([pos[0],pos[1]]) # update\n",
    "        else:\n",
    "            pos[randint(0, 1)] += 1 # increment either x or y randomly\n",
    "            path.append([pos[0],pos[1]]) # update\n",
    "    return path\n",
    "\n",
    "\n",
    "import functools\n",
    "\n",
    "\n",
    "### Recursion used to compute Deviation of a path\n",
    "def recursive_comp(path,max_deviation, m, n):\n",
    "    \n",
    "    if path == []: return max_deviation\n",
    "    \n",
    "    else:\n",
    "        test = abs(path[0][0]/m - path[0][1]/n)\n",
    "               \n",
    "        if max_deviation < test: # fix later\n",
    "            max_deviation = test\n",
    "        #print(max_deviation)\n",
    "        temp = path \n",
    "        temp.pop(0)\n",
    "        \n",
    "        return recursive_comp(temp, max_deviation,m,n)\n",
    "\n",
    "    \n",
    "### Computes Deviation D of a path = list of vertices\n",
    "def deviation(path): # note: path not left in-place\n",
    "    \n",
    "    \n",
    "    x = path[len(path)-1][0]\n",
    "    y = path[len(path)-1][1]\n",
    "    \n",
    "    deviation_init = 0\n",
    "    \n",
    "    max_deviation = recursive_comp(path,deviation_init, x, y)\n",
    "    \n",
    "    return max_deviation\n"
   ]
  },
  {
   "cell_type": "code",
   "execution_count": 2,
   "metadata": {},
   "outputs": [
    {
     "name": "stdout",
     "output_type": "stream",
     "text": [
      "[[0, 0], [0, 1], [1, 1]]\n",
      "1.0\n"
     ]
    }
   ],
   "source": [
    "### TESTING\n",
    "\n",
    "#path = [[0,0],[0,1],[1,1],[1,2],[2,2],[2,3]]\n",
    "m=2\n",
    "n=3\n",
    "\n",
    "path = [[0,0],[0,1],[1,1]]\n",
    "\n",
    "print(path)\n",
    "print(deviation(path))\n",
    "\n",
    "# print(X, path)\n",
    "\n",
    "# path[1:len(path)]"
   ]
  },
  {
   "cell_type": "code",
   "execution_count": 3,
   "metadata": {},
   "outputs": [
    {
     "name": "stdout",
     "output_type": "stream",
     "text": [
      "0.2878787878787879\n",
      "0.28787878787878796\n",
      "0.3939393939393939\n",
      "0.1515151515151515\n",
      "0.31818181818181823\n",
      "0.4545454545454546\n",
      "0.43939393939393934\n",
      "0.3787878787878788\n",
      "0.5151515151515151\n",
      "0.27272727272727276\n",
      "0.4545454545454546\n",
      "0.24242424242424243\n",
      "0.25757575757575757\n"
     ]
    }
   ],
   "source": [
    "m=22\n",
    "n=33\n",
    "#recursive_comp(ant_simulation([0,0],[m,n]),0, m, n)\n",
    "for i in range(12345):\n",
    "    if i % 1000 == 0: print(deviation(ant_simulation([0,0],[m,n])))"
   ]
  },
  {
   "cell_type": "code",
   "execution_count": 4,
   "metadata": {},
   "outputs": [
    {
     "name": "stdout",
     "output_type": "stream",
     "text": [
      "did 20000.0\n",
      "did 20000.0\n",
      "did 20000.0\n",
      "did 20000.0\n",
      "did 20000.0\n",
      "did 20000.0\n",
      "did 20000.0\n",
      "did 20000.0\n",
      "did 20000.0\n",
      "did 20000.0\n",
      "takes 21.030981302261353 seconds\n",
      "mean: 0.353351072931 , standard deviation: 0.136996073628, P( D > .6 | D > .2) : 0.0629463563454827\n"
     ]
    }
   ],
   "source": [
    "### SIMULATION\n",
    "\n",
    "import time # for timing\n",
    "import numpy as np\n",
    "\n",
    "### parameters\n",
    "m = 23 #...\n",
    "n = 31 #...\n",
    "sim_length = 2*10**5 # simulates 200k ant paths\n",
    "\n",
    "start_time = time.time()\n",
    "\n",
    "vals = []\n",
    "for i in range(sim_length):\n",
    "    if (i%(sim_length/10) == 0): print(\"did \" + str(sim_length/10))\n",
    "    sample = deviation(ant_simulation([0,0],[m,n]))\n",
    "    vals.append(sample)\n",
    "#    print(sample)\n",
    "\n",
    "end_time = time.time()\n",
    "print(\"takes \" + str(end_time-start_time) + \" seconds\") # in seconds\n",
    "\n",
    "\n",
    "vals\n",
    "\n",
    "\n",
    "mean = np.mean(vals)\n",
    "sd = np.std(vals)\n",
    "\n",
    "condlist1 = np.array(vals) > .2\n",
    "conditional = np.extract(condlist1,np.array(vals))\n",
    "bgd = ( conditional, len(conditional) )\n",
    "\n",
    "condlist2 = conditional > .6\n",
    "success = np.extract(condlist2,conditional)\n",
    "conclusion = len(success)/bgd[1]\n",
    "\n",
    "print( \"mean: \" + str(mean), \", standard deviation: \" + str(sd) + \", P( D > .6 | D > .2) : \" + str(conclusion))\n"
   ]
  },
  {
   "cell_type": "code",
   "execution_count": null,
   "metadata": {
    "collapsed": true
   },
   "outputs": [],
   "source": []
  }
 ],
 "metadata": {
  "kernelspec": {
   "display_name": "Python 3",
   "language": "python",
   "name": "python3"
  },
  "language_info": {
   "codemirror_mode": {
    "name": "ipython",
    "version": 3
   },
   "file_extension": ".py",
   "mimetype": "text/x-python",
   "name": "python",
   "nbconvert_exporter": "python",
   "pygments_lexer": "ipython3",
   "version": "3.6.3"
  }
 },
 "nbformat": 4,
 "nbformat_minor": 2
}
