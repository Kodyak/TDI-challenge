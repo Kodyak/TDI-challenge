{
 "cells": [
  {
   "cell_type": "markdown",
   "metadata": {},
   "source": [
    "We're going to import the RI public payroll dataset and do a little exploration."
   ]
  },
  {
   "cell_type": "code",
   "execution_count": 89,
   "metadata": {},
   "outputs": [
    {
     "name": "stderr",
     "output_type": "stream",
     "text": [
      "b'Skipping line 7272: expected 13 fields, saw 14\\nSkipping line 7279: expected 13 fields, saw 14\\nSkipping line 7289: expected 13 fields, saw 14\\nSkipping line 7300: expected 13 fields, saw 14\\nSkipping line 7318: expected 13 fields, saw 14\\nSkipping line 7413: expected 13 fields, saw 15\\nSkipping line 7432: expected 13 fields, saw 14\\nSkipping line 7433: expected 13 fields, saw 14\\nSkipping line 7448: expected 13 fields, saw 14\\nSkipping line 7470: expected 13 fields, saw 14\\nSkipping line 7486: expected 13 fields, saw 14\\nSkipping line 7539: expected 13 fields, saw 15\\nSkipping line 7563: expected 13 fields, saw 14\\nSkipping line 7573: expected 13 fields, saw 14\\nSkipping line 7575: expected 13 fields, saw 14\\nSkipping line 7579: expected 13 fields, saw 14\\nSkipping line 7586: expected 13 fields, saw 14\\nSkipping line 7599: expected 13 fields, saw 14\\nSkipping line 7614: expected 13 fields, saw 14\\nSkipping line 7655: expected 13 fields, saw 14\\nSkipping line 7732: expected 13 fields, saw 16\\nSkipping line 7744: expected 13 fields, saw 14\\nSkipping line 7746: expected 13 fields, saw 14\\nSkipping line 7755: expected 13 fields, saw 14\\nSkipping line 7786: expected 13 fields, saw 14\\nSkipping line 7787: expected 13 fields, saw 14\\nSkipping line 7796: expected 13 fields, saw 14\\nSkipping line 7839: expected 13 fields, saw 14\\nSkipping line 7846: expected 13 fields, saw 14\\nSkipping line 7864: expected 13 fields, saw 14\\nSkipping line 7880: expected 13 fields, saw 14\\nSkipping line 7884: expected 13 fields, saw 14\\nSkipping line 7904: expected 13 fields, saw 14\\nSkipping line 7916: expected 13 fields, saw 14\\nSkipping line 7931: expected 13 fields, saw 14\\nSkipping line 7934: expected 13 fields, saw 16\\nSkipping line 7976: expected 13 fields, saw 14\\nSkipping line 7979: expected 13 fields, saw 14\\nSkipping line 7981: expected 13 fields, saw 14\\nSkipping line 8090: expected 13 fields, saw 14\\nSkipping line 8528: expected 13 fields, saw 14\\nSkipping line 8596: expected 13 fields, saw 14\\nSkipping line 8623: expected 13 fields, saw 14\\nSkipping line 9138: expected 13 fields, saw 14\\nSkipping line 9248: expected 13 fields, saw 14\\nSkipping line 9324: expected 13 fields, saw 14\\nSkipping line 9427: expected 13 fields, saw 15\\nSkipping line 9883: expected 13 fields, saw 15\\nSkipping line 9901: expected 13 fields, saw 14\\nSkipping line 9933: expected 13 fields, saw 14\\nSkipping line 9934: expected 13 fields, saw 14\\nSkipping line 9948: expected 13 fields, saw 15\\nSkipping line 9966: expected 13 fields, saw 14\\nSkipping line 10030: expected 13 fields, saw 14\\nSkipping line 10153: expected 13 fields, saw 14\\nSkipping line 10232: expected 13 fields, saw 14\\nSkipping line 10320: expected 13 fields, saw 14\\nSkipping line 10585: expected 13 fields, saw 14\\nSkipping line 10651: expected 13 fields, saw 14\\nSkipping line 11496: expected 13 fields, saw 14\\nSkipping line 11500: expected 13 fields, saw 14\\nSkipping line 11523: expected 13 fields, saw 14\\nSkipping line 11703: expected 13 fields, saw 15\\nSkipping line 11707: expected 13 fields, saw 14\\nSkipping line 11815: expected 13 fields, saw 14\\nSkipping line 11828: expected 13 fields, saw 14\\nSkipping line 11837: expected 13 fields, saw 14\\nSkipping line 12009: expected 13 fields, saw 14\\nSkipping line 12295: expected 13 fields, saw 14\\nSkipping line 14545: expected 13 fields, saw 14\\nSkipping line 18570: expected 13 fields, saw 14\\nSkipping line 18926: expected 13 fields, saw 14\\nSkipping line 19508: expected 13 fields, saw 14\\nSkipping line 19519: expected 13 fields, saw 14\\nSkipping line 20163: expected 13 fields, saw 14\\nSkipping line 22780: expected 13 fields, saw 14\\nSkipping line 24454: expected 13 fields, saw 14\\nSkipping line 25308: expected 13 fields, saw 14\\nSkipping line 27396: expected 13 fields, saw 14\\nSkipping line 29573: expected 13 fields, saw 14\\nSkipping line 29620: expected 13 fields, saw 14\\nSkipping line 29627: expected 13 fields, saw 14\\nSkipping line 29664: expected 13 fields, saw 14\\nSkipping line 29665: expected 13 fields, saw 14\\nSkipping line 29669: expected 13 fields, saw 14\\nSkipping line 29676: expected 13 fields, saw 14\\nSkipping line 29695: expected 13 fields, saw 14\\nSkipping line 29708: expected 13 fields, saw 14\\nSkipping line 29724: expected 13 fields, saw 14\\nSkipping line 29771: expected 13 fields, saw 14\\nSkipping line 29794: expected 13 fields, saw 14\\nSkipping line 29804: expected 13 fields, saw 14\\nSkipping line 29861: expected 13 fields, saw 14\\nSkipping line 29864: expected 13 fields, saw 14\\nSkipping line 29884: expected 13 fields, saw 14\\nSkipping line 29888: expected 13 fields, saw 14\\nSkipping line 29896: expected 13 fields, saw 14\\nSkipping line 29907: expected 13 fields, saw 14\\nSkipping line 29924: expected 13 fields, saw 14\\nSkipping line 29925: expected 13 fields, saw 14\\nSkipping line 29955: expected 13 fields, saw 14\\nSkipping line 30024: expected 13 fields, saw 14\\nSkipping line 30070: expected 13 fields, saw 14\\nSkipping line 30084: expected 13 fields, saw 14\\nSkipping line 30094: expected 13 fields, saw 14\\nSkipping line 30103: expected 13 fields, saw 14\\nSkipping line 30108: expected 13 fields, saw 14\\nSkipping line 30171: expected 13 fields, saw 14\\nSkipping line 30192: expected 13 fields, saw 14\\nSkipping line 30218: expected 13 fields, saw 14\\nSkipping line 30224: expected 13 fields, saw 14\\nSkipping line 30257: expected 13 fields, saw 14\\nSkipping line 30270: expected 13 fields, saw 14\\nSkipping line 30271: expected 13 fields, saw 14\\nSkipping line 30287: expected 13 fields, saw 14\\nSkipping line 30301: expected 13 fields, saw 14\\nSkipping line 30349: expected 13 fields, saw 14\\nSkipping line 30364: expected 13 fields, saw 14\\nSkipping line 30411: expected 13 fields, saw 14\\nSkipping line 30418: expected 13 fields, saw 14\\nSkipping line 30453: expected 13 fields, saw 14\\nSkipping line 30457: expected 13 fields, saw 14\\nSkipping line 30473: expected 13 fields, saw 14\\nSkipping line 30481: expected 13 fields, saw 14\\nSkipping line 30497: expected 13 fields, saw 14\\nSkipping line 30510: expected 13 fields, saw 14\\nSkipping line 30528: expected 13 fields, saw 14\\nSkipping line 30567: expected 13 fields, saw 14\\nSkipping line 30603: expected 13 fields, saw 14\\nSkipping line 30654: expected 13 fields, saw 14\\nSkipping line 30659: expected 13 fields, saw 14\\nSkipping line 30679: expected 13 fields, saw 14\\nSkipping line 30686: expected 13 fields, saw 14\\nSkipping line 30692: expected 13 fields, saw 14\\nSkipping line 30702: expected 13 fields, saw 14\\nSkipping line 30717: expected 13 fields, saw 14\\nSkipping line 30718: expected 13 fields, saw 14\\nSkipping line 30743: expected 13 fields, saw 14\\nSkipping line 30821: expected 13 fields, saw 14\\nSkipping line 30866: expected 13 fields, saw 14\\nSkipping line 30876: expected 13 fields, saw 14\\nSkipping line 30885: expected 13 fields, saw 14\\nSkipping line 30895: expected 13 fields, saw 14\\nSkipping line 30899: expected 13 fields, saw 14\\nSkipping line 30960: expected 13 fields, saw 14\\nSkipping line 30976: expected 13 fields, saw 14\\nSkipping line 31004: expected 13 fields, saw 14\\nSkipping line 31009: expected 13 fields, saw 14\\nSkipping line 31046: expected 13 fields, saw 14\\nSkipping line 31058: expected 13 fields, saw 14\\nSkipping line 31074: expected 13 fields, saw 14\\nSkipping line 31085: expected 13 fields, saw 14\\nSkipping line 31136: expected 13 fields, saw 14\\nSkipping line 31147: expected 13 fields, saw 14\\nSkipping line 31202: expected 13 fields, saw 14\\nSkipping line 31209: expected 13 fields, saw 14\\nSkipping line 31251: expected 13 fields, saw 14\\nSkipping line 31252: expected 13 fields, saw 14\\nSkipping line 31270: expected 13 fields, saw 14\\nSkipping line 31275: expected 13 fields, saw 14\\nSkipping line 31292: expected 13 fields, saw 14\\nSkipping line 31302: expected 13 fields, saw 14\\nSkipping line 31322: expected 13 fields, saw 14\\nSkipping line 31361: expected 13 fields, saw 14\\nSkipping line 31404: expected 13 fields, saw 14\\nSkipping line 31456: expected 13 fields, saw 14\\nSkipping line 31460: expected 13 fields, saw 14\\nSkipping line 31481: expected 13 fields, saw 14\\nSkipping line 31486: expected 13 fields, saw 14\\nSkipping line 31491: expected 13 fields, saw 14\\nSkipping line 31503: expected 13 fields, saw 14\\nSkipping line 31520: expected 13 fields, saw 14\\nSkipping line 31521: expected 13 fields, saw 14\\nSkipping line 31552: expected 13 fields, saw 14\\nSkipping line 31628: expected 13 fields, saw 14\\nSkipping line 31677: expected 13 fields, saw 14\\nSkipping line 31684: expected 13 fields, saw 14\\nSkipping line 31698: expected 13 fields, saw 14\\nSkipping line 31702: expected 13 fields, saw 14\\nSkipping line 31766: expected 13 fields, saw 14\\nSkipping line 31783: expected 13 fields, saw 14\\nSkipping line 31812: expected 13 fields, saw 14\\nSkipping line 31815: expected 13 fields, saw 14\\nSkipping line 31847: expected 13 fields, saw 14\\nSkipping line 31858: expected 13 fields, saw 14\\nSkipping line 31874: expected 13 fields, saw 14\\nSkipping line 31887: expected 13 fields, saw 14\\nSkipping line 31938: expected 13 fields, saw 14\\nSkipping line 32686: expected 13 fields, saw 14\\nSkipping line 33539: expected 13 fields, saw 14\\nSkipping line 34342: expected 13 fields, saw 14\\nSkipping line 34436: expected 13 fields, saw 14\\nSkipping line 34476: expected 13 fields, saw 14\\nSkipping line 34570: expected 13 fields, saw 15\\nSkipping line 34589: expected 13 fields, saw 14\\nSkipping line 34591: expected 13 fields, saw 14\\nSkipping line 34603: expected 13 fields, saw 14\\nSkipping line 34645: expected 13 fields, saw 14\\nSkipping line 34699: expected 13 fields, saw 15\\nSkipping line 34722: expected 13 fields, saw 14\\nSkipping line 34732: expected 13 fields, saw 14\\nSkipping line 34735: expected 13 fields, saw 14\\nSkipping line 34739: expected 13 fields, saw 14\\nSkipping line 34745: expected 13 fields, saw 14\\nSkipping line 34758: expected 13 fields, saw 14\\nSkipping line 34773: expected 13 fields, saw 14\\nSkipping line 34807: expected 13 fields, saw 14\\nSkipping line 34817: expected 13 fields, saw 14\\nSkipping line 34897: expected 13 fields, saw 16\\nSkipping line 34915: expected 13 fields, saw 14\\nSkipping line 34922: expected 13 fields, saw 14\\nSkipping line 34957: expected 13 fields, saw 14\\nSkipping line 34958: expected 13 fields, saw 14\\nSkipping line 35007: expected 13 fields, saw 14\\nSkipping line 35014: expected 13 fields, saw 14\\nSkipping line 35038: expected 13 fields, saw 14\\nSkipping line 35058: expected 13 fields, saw 14\\nSkipping line 35078: expected 13 fields, saw 14\\nSkipping line 35087: expected 13 fields, saw 14\\nSkipping line 35101: expected 13 fields, saw 14\\nSkipping line 35105: expected 13 fields, saw 16\\nSkipping line 35125: expected 13 fields, saw 14\\nSkipping line 35149: expected 13 fields, saw 14\\nSkipping line 35150: expected 13 fields, saw 14\\nSkipping line 35256: expected 13 fields, saw 14\\nSkipping line 35734: expected 13 fields, saw 14\\nSkipping line 35807: expected 13 fields, saw 14\\nSkipping line 35832: expected 13 fields, saw 14\\nSkipping line 36361: expected 13 fields, saw 14\\nSkipping line 36553: expected 13 fields, saw 14\\nSkipping line 36825: expected 13 fields, saw 14\\nSkipping line 37007: expected 13 fields, saw 15\\nSkipping line 37028: expected 13 fields, saw 14\\nSkipping line 37030: expected 13 fields, saw 14\\nSkipping line 37061: expected 13 fields, saw 14\\nSkipping line 37073: expected 13 fields, saw 15\\nSkipping line 37093: expected 13 fields, saw 14\\nSkipping line 37159: expected 13 fields, saw 14\\nSkipping line 37217: expected 13 fields, saw 14\\nSkipping line 37286: expected 13 fields, saw 14\\nSkipping line 37367: expected 13 fields, saw 14\\nSkipping line 37455: expected 13 fields, saw 14\\nSkipping line 37530: expected 13 fields, saw 14\\nSkipping line 37749: expected 13 fields, saw 14\\nSkipping line 37815: expected 13 fields, saw 14\\nSkipping line 38667: expected 13 fields, saw 14\\nSkipping line 38669: expected 13 fields, saw 14\\nSkipping line 38698: expected 13 fields, saw 14\\nSkipping line 38881: expected 13 fields, saw 15\\nSkipping line 38886: expected 13 fields, saw 14\\nSkipping line 38998: expected 13 fields, saw 14\\nSkipping line 39023: expected 13 fields, saw 14\\nSkipping line 39208: expected 13 fields, saw 14\\nSkipping line 39499: expected 13 fields, saw 14\\nSkipping line 39634: expected 13 fields, saw 14\\nSkipping line 39804: expected 13 fields, saw 14\\nSkipping line 39827: expected 13 fields, saw 14\\nSkipping line 40039: expected 13 fields, saw 14\\nSkipping line 40061: expected 13 fields, saw 14\\nSkipping line 40116: expected 13 fields, saw 14\\nSkipping line 40156: expected 13 fields, saw 14\\nSkipping line 40287: expected 13 fields, saw 14\\nSkipping line 40371: expected 13 fields, saw 14\\nSkipping line 40415: expected 13 fields, saw 14\\nSkipping line 40536: expected 13 fields, saw 14\\nSkipping line 40891: expected 13 fields, saw 14\\nSkipping line 40901: expected 13 fields, saw 14\\nSkipping line 40914: expected 13 fields, saw 14\\nSkipping line 41359: expected 13 fields, saw 14\\nSkipping line 41371: expected 13 fields, saw 14\\nSkipping line 41406: expected 13 fields, saw 15\\nSkipping line 41421: expected 13 fields, saw 15\\nSkipping line 41535: expected 13 fields, saw 14\\nSkipping line 41560: expected 13 fields, saw 14\\nSkipping line 41598: expected 13 fields, saw 14\\nSkipping line 41602: expected 13 fields, saw 14\\nSkipping line 41645: expected 13 fields, saw 14\\nSkipping line 41672: expected 13 fields, saw 14\\nSkipping line 41686: expected 13 fields, saw 14\\nSkipping line 41693: expected 13 fields, saw 14\\nSkipping line 41699: expected 13 fields, saw 14\\nSkipping line 41702: expected 13 fields, saw 14\\nSkipping line 41707: expected 13 fields, saw 14\\nSkipping line 41840: expected 13 fields, saw 14\\nSkipping line 41895: expected 13 fields, saw 14\\nSkipping line 41927: expected 13 fields, saw 14\\nSkipping line 41935: expected 13 fields, saw 14\\nSkipping line 42040: expected 13 fields, saw 14\\nSkipping line 42256: expected 13 fields, saw 14\\nSkipping line 42315: expected 13 fields, saw 14\\nSkipping line 42328: expected 13 fields, saw 14\\nSkipping line 42354: expected 13 fields, saw 14\\nSkipping line 42431: expected 13 fields, saw 14\\nSkipping line 42599: expected 13 fields, saw 14\\nSkipping line 42620: expected 13 fields, saw 14\\nSkipping line 42624: expected 13 fields, saw 15\\nSkipping line 42628: expected 13 fields, saw 14\\nSkipping line 42654: expected 13 fields, saw 14\\nSkipping line 42660: expected 13 fields, saw 14\\nSkipping line 42714: expected 13 fields, saw 14\\nSkipping line 42750: expected 13 fields, saw 14\\nSkipping line 42762: expected 13 fields, saw 14\\nSkipping line 42773: expected 13 fields, saw 14\\nSkipping line 42788: expected 13 fields, saw 14\\nSkipping line 42797: expected 13 fields, saw 14\\nSkipping line 42809: expected 13 fields, saw 14\\nSkipping line 42816: expected 13 fields, saw 14\\nSkipping line 42843: expected 13 fields, saw 14\\nSkipping line 42857: expected 13 fields, saw 14\\nSkipping line 42931: expected 13 fields, saw 14\\nSkipping line 42945: expected 13 fields, saw 14\\nSkipping line 42977: expected 13 fields, saw 14\\nSkipping line 42986: expected 13 fields, saw 14\\nSkipping line 42995: expected 13 fields, saw 14\\nSkipping line 43039: expected 13 fields, saw 14\\nSkipping line 43047: expected 13 fields, saw 14\\nSkipping line 43095: expected 13 fields, saw 14\\nSkipping line 43146: expected 13 fields, saw 14\\nSkipping line 43180: expected 13 fields, saw 14\\nSkipping line 43199: expected 13 fields, saw 15\\nSkipping line 43217: expected 13 fields, saw 15\\nSkipping line 43227: expected 13 fields, saw 14\\nSkipping line 43294: expected 13 fields, saw 14\\nSkipping line 43375: expected 13 fields, saw 14\\nSkipping line 43452: expected 13 fields, saw 14\\nSkipping line 43707: expected 13 fields, saw 14\\nSkipping line 43816: expected 13 fields, saw 14\\nSkipping line 43923: expected 13 fields, saw 14\\nSkipping line 43946: expected 13 fields, saw 14\\nSkipping line 43947: expected 13 fields, saw 14\\nSkipping line 44085: expected 13 fields, saw 14\\nSkipping line 44110: expected 13 fields, saw 14\\nSkipping line 44144: expected 13 fields, saw 14\\nSkipping line 44186: expected 13 fields, saw 14\\nSkipping line 44234: expected 13 fields, saw 14\\nSkipping line 44311: expected 13 fields, saw 14\\nSkipping line 44361: expected 13 fields, saw 14\\nSkipping line 44369: expected 13 fields, saw 14\\nSkipping line 44409: expected 13 fields, saw 14\\nSkipping line 44410: expected 13 fields, saw 14\\nSkipping line 44428: expected 13 fields, saw 14\\nSkipping line 44434: expected 13 fields, saw 14\\nSkipping line 44449: expected 13 fields, saw 14\\nSkipping line 44454: expected 13 fields, saw 14\\nSkipping line 44457: expected 13 fields, saw 14\\nSkipping line 44474: expected 13 fields, saw 14\\nSkipping line 44512: expected 13 fields, saw 14\\nSkipping line 44549: expected 13 fields, saw 14\\nSkipping line 44602: expected 13 fields, saw 14\\nSkipping line 44605: expected 13 fields, saw 14\\nSkipping line 44631: expected 13 fields, saw 14\\nSkipping line 44633: expected 13 fields, saw 14\\nSkipping line 44645: expected 13 fields, saw 14\\nSkipping line 44663: expected 13 fields, saw 14\\nSkipping line 44664: expected 13 fields, saw 14\\nSkipping line 44690: expected 13 fields, saw 14\\nSkipping line 44763: expected 13 fields, saw 14\\nSkipping line 44812: expected 13 fields, saw 14\\nSkipping line 44819: expected 13 fields, saw 14\\nSkipping line 44834: expected 13 fields, saw 14\\nSkipping line 44838: expected 13 fields, saw 14\\nSkipping line 44895: expected 13 fields, saw 14\\nSkipping line 44916: expected 13 fields, saw 14\\nSkipping line 44944: expected 13 fields, saw 14\\nSkipping line 44947: expected 13 fields, saw 14\\nSkipping line 44993: expected 13 fields, saw 14\\nSkipping line 45008: expected 13 fields, saw 14\\nSkipping line 45017: expected 13 fields, saw 14\\nSkipping line 45068: expected 13 fields, saw 14\\nSkipping line 45828: expected 13 fields, saw 14\\nSkipping line 45918: expected 13 fields, saw 14\\nSkipping line 45921: expected 13 fields, saw 14\\nSkipping line 45923: expected 13 fields, saw 14\\nSkipping line 45939: expected 13 fields, saw 14\\nSkipping line 45949: expected 13 fields, saw 14\\nSkipping line 45954: expected 13 fields, saw 14\\nSkipping line 45984: expected 13 fields, saw 14\\nSkipping line 46000: expected 13 fields, saw 14\\nSkipping line 46010: expected 13 fields, saw 14\\nSkipping line 46015: expected 13 fields, saw 14\\nSkipping line 46024: expected 13 fields, saw 14\\nSkipping line 46026: expected 13 fields, saw 14\\nSkipping line 46074: expected 13 fields, saw 14\\nSkipping line 46099: expected 13 fields, saw 14\\nSkipping line 46595: expected 13 fields, saw 14\\nSkipping line 46889: expected 13 fields, saw 14\\nSkipping line 46900: expected 13 fields, saw 14\\nSkipping line 46903: expected 13 fields, saw 14\\nSkipping line 46925: expected 13 fields, saw 14\\nSkipping line 47958: expected 13 fields, saw 14\\nSkipping line 47989: expected 13 fields, saw 14\\nSkipping line 48064: expected 13 fields, saw 14\\nSkipping line 48177: expected 13 fields, saw 14\\nSkipping line 48254: expected 13 fields, saw 14\\nSkipping line 48280: expected 13 fields, saw 14\\nSkipping line 48287: expected 13 fields, saw 14\\nSkipping line 48345: expected 13 fields, saw 14\\nSkipping line 48359: expected 13 fields, saw 14\\nSkipping line 48531: expected 13 fields, saw 14\\nSkipping line 48598: expected 13 fields, saw 14\\nSkipping line 48645: expected 13 fields, saw 14\\nSkipping line 48728: expected 13 fields, saw 14\\nSkipping line 48730: expected 13 fields, saw 14\\nSkipping line 48760: expected 13 fields, saw 14\\nSkipping line 48909: expected 13 fields, saw 14\\nSkipping line 48946: expected 13 fields, saw 14\\nSkipping line 49357: expected 13 fields, saw 14\\nSkipping line 49890: expected 13 fields, saw 14\\nSkipping line 51840: expected 13 fields, saw 14\\nSkipping line 51959: expected 13 fields, saw 14\\nSkipping line 51967: expected 13 fields, saw 14\\nSkipping line 51977: expected 13 fields, saw 14\\nSkipping line 52021: expected 13 fields, saw 14\\nSkipping line 52446: expected 13 fields, saw 14\\nSkipping line 52457: expected 13 fields, saw 14\\nSkipping line 52495: expected 13 fields, saw 15\\nSkipping line 52506: expected 13 fields, saw 15\\nSkipping line 52526: expected 13 fields, saw 14\\nSkipping line 52624: expected 13 fields, saw 14\\nSkipping line 52655: expected 13 fields, saw 14\\nSkipping line 52688: expected 13 fields, saw 14\\nSkipping line 52696: expected 13 fields, saw 14\\nSkipping line 52738: expected 13 fields, saw 14\\nSkipping line 52772: expected 13 fields, saw 14\\nSkipping line 52791: expected 13 fields, saw 14\\nSkipping line 52793: expected 13 fields, saw 14\\nSkipping line 52799: expected 13 fields, saw 14\\nSkipping line 52808: expected 13 fields, saw 14\\nSkipping line 52811: expected 13 fields, saw 14\\nSkipping line 52812: expected 13 fields, saw 14\\nSkipping line 52995: expected 13 fields, saw 14\\nSkipping line 53007: expected 13 fields, saw 14\\nSkipping line 53012: expected 13 fields, saw 14\\nSkipping line 53040: expected 13 fields, saw 14\\nSkipping line 53047: expected 13 fields, saw 14\\nSkipping line 53161: expected 13 fields, saw 14\\nSkipping line 53370: expected 13 fields, saw 14\\nSkipping line 53426: expected 13 fields, saw 14\\nSkipping line 53437: expected 13 fields, saw 14\\nSkipping line 53461: expected 13 fields, saw 14\\nSkipping line 53538: expected 13 fields, saw 14\\nSkipping line 53635: expected 13 fields, saw 14\\nSkipping line 53638: expected 13 fields, saw 14\\nSkipping line 53639: expected 13 fields, saw 14\\nSkipping line 53641: expected 13 fields, saw 14\\nSkipping line 53642: expected 13 fields, saw 14\\nSkipping line 53643: expected 13 fields, saw 14\\nSkipping line 53646: expected 13 fields, saw 14\\nSkipping line 53648: expected 13 fields, saw 14\\nSkipping line 53652: expected 13 fields, saw 14\\nSkipping line 53653: expected 13 fields, saw 14\\nSkipping line 53654: expected 13 fields, saw 14\\nSkipping line 53655: expected 13 fields, saw 14\\nSkipping line 53658: expected 13 fields, saw 14\\nSkipping line 53664: expected 13 fields, saw 14\\nSkipping line 53758: expected 13 fields, saw 14\\nSkipping line 53762: expected 13 fields, saw 14\\nSkipping line 53784: expected 13 fields, saw 14\\nSkipping line 53788: expected 13 fields, saw 15\\nSkipping line 53799: expected 13 fields, saw 14\\nSkipping line 53823: expected 13 fields, saw 14\\nSkipping line 53833: expected 13 fields, saw 14\\nSkipping line 53854: expected 13 fields, saw 14\\nSkipping line 53885: expected 13 fields, saw 14\\nSkipping line 53926: expected 13 fields, saw 14\\nSkipping line 53939: expected 13 fields, saw 14\\nSkipping line 53966: expected 13 fields, saw 14\\nSkipping line 53973: expected 13 fields, saw 14\\nSkipping line 53981: expected 13 fields, saw 14\\nSkipping line 54014: expected 13 fields, saw 14\\nSkipping line 54026: expected 13 fields, saw 14\\nSkipping line 54106: expected 13 fields, saw 14\\nSkipping line 54158: expected 13 fields, saw 14\\nSkipping line 54168: expected 13 fields, saw 14\\nSkipping line 54209: expected 13 fields, saw 14\\nSkipping line 54219: expected 13 fields, saw 14\\nSkipping line 54280: expected 13 fields, saw 14\\nSkipping line 54326: expected 13 fields, saw 14\\nSkipping line 54362: expected 13 fields, saw 14\\nSkipping line 54377: expected 13 fields, saw 14\\nSkipping line 54379: expected 13 fields, saw 15\\nSkipping line 54402: expected 13 fields, saw 15\\nSkipping line 54409: expected 13 fields, saw 14\\nSkipping line 54451: expected 13 fields, saw 15\\nSkipping line 54479: expected 13 fields, saw 14\\nSkipping line 54566: expected 13 fields, saw 14\\nSkipping line 54654: expected 13 fields, saw 14\\nSkipping line 54772: expected 13 fields, saw 14\\nSkipping line 54897: expected 13 fields, saw 14\\nSkipping line 55004: expected 13 fields, saw 14\\nSkipping line 55120: expected 13 fields, saw 14\\nSkipping line 55148: expected 13 fields, saw 14\\nSkipping line 55209: expected 13 fields, saw 14\\nSkipping line 55318: expected 13 fields, saw 14\\nSkipping line 55352: expected 13 fields, saw 14\\nSkipping line 55388: expected 13 fields, saw 14\\nSkipping line 55441: expected 13 fields, saw 14\\nSkipping line 55517: expected 13 fields, saw 14\\nSkipping line 55572: expected 13 fields, saw 14\\nSkipping line 55581: expected 13 fields, saw 14\\nSkipping line 55619: expected 13 fields, saw 14\\nSkipping line 55624: expected 13 fields, saw 14\\nSkipping line 55637: expected 13 fields, saw 14\\nSkipping line 55641: expected 13 fields, saw 14\\nSkipping line 55664: expected 13 fields, saw 14\\nSkipping line 55669: expected 13 fields, saw 14\\nSkipping line 55674: expected 13 fields, saw 14\\nSkipping line 55739: expected 13 fields, saw 14\\nSkipping line 55769: expected 13 fields, saw 14\\nSkipping line 55827: expected 13 fields, saw 14\\nSkipping line 55832: expected 13 fields, saw 14\\nSkipping line 55851: expected 13 fields, saw 14\\nSkipping line 55856: expected 13 fields, saw 14\\nSkipping line 55867: expected 13 fields, saw 14\\nSkipping line 55882: expected 13 fields, saw 14\\nSkipping line 55883: expected 13 fields, saw 14\\nSkipping line 55908: expected 13 fields, saw 14\\nSkipping line 55981: expected 13 fields, saw 14\\nSkipping line 56028: expected 13 fields, saw 14\\nSkipping line 56038: expected 13 fields, saw 14\\nSkipping line 56052: expected 13 fields, saw 14\\nSkipping line 56058: expected 13 fields, saw 14\\nSkipping line 56112: expected 13 fields, saw 14\\nSkipping line 56128: expected 13 fields, saw 14\\nSkipping line 56160: expected 13 fields, saw 14\\nSkipping line 56163: expected 13 fields, saw 14\\nSkipping line 56204: expected 13 fields, saw 14\\nSkipping line 56222: expected 13 fields, saw 14\\nSkipping line 56234: expected 13 fields, saw 14\\nSkipping line 56282: expected 13 fields, saw 14\\nSkipping line 57073: expected 13 fields, saw 14\\nSkipping line 58178: expected 13 fields, saw 14\\nSkipping line 58208: expected 13 fields, saw 14\\nSkipping line 58298: expected 13 fields, saw 14\\nSkipping line 58305: expected 13 fields, saw 14\\nSkipping line 58402: expected 13 fields, saw 14\\nSkipping line 58477: expected 13 fields, saw 14\\nSkipping line 58501: expected 13 fields, saw 14\\nSkipping line 58509: expected 13 fields, saw 14\\nSkipping line 58564: expected 13 fields, saw 14\\nSkipping line 58574: expected 13 fields, saw 14\\nSkipping line 58726: expected 13 fields, saw 14\\nSkipping line 59015: expected 13 fields, saw 14\\nSkipping line 59025: expected 13 fields, saw 14\\nSkipping line 59028: expected 13 fields, saw 14\\nSkipping line 59051: expected 13 fields, saw 14\\nSkipping line 59533: expected 13 fields, saw 14\\nSkipping line 60185: expected 13 fields, saw 14\\nSkipping line 60251: expected 13 fields, saw 14\\nSkipping line 60281: expected 13 fields, saw 14\\nSkipping line 60351: expected 13 fields, saw 14\\nSkipping line 60352: expected 13 fields, saw 14\\nSkipping line 60386: expected 13 fields, saw 14\\nSkipping line 60506: expected 13 fields, saw 14\\nSkipping line 60524: expected 13 fields, saw 14\\nSkipping line 60566: expected 13 fields, saw 14\\n'\n"
     ]
    },
    {
     "name": "stderr",
     "output_type": "stream",
     "text": [
      "/anaconda3/lib/python3.6/site-packages/IPython/core/interactiveshell.py:2698: DtypeWarning: Columns (10) have mixed types. Specify dtype option on import or set low_memory=False.\n",
      "  interactivity=interactivity, compiler=compiler, result=result)\n"
     ]
    }
   ],
   "source": [
    "import pandas as pd\n",
    "import numpy as np\n",
    "\n",
    "RI_data = pd.read_csv('RIpayroll_export_2018-04-30_08-19.csv', error_bad_lines=False)\n",
    "\n",
    "# data tokenization is messy - issues with some (~550) rows requiring extra columns. \n",
    "# For the moment just going to discard these."
   ]
  },
  {
   "cell_type": "code",
   "execution_count": 90,
   "metadata": {},
   "outputs": [
    {
     "data": {
      "text/html": [
       "<div>\n",
       "<style>\n",
       "    .dataframe thead tr:only-child th {\n",
       "        text-align: right;\n",
       "    }\n",
       "\n",
       "    .dataframe thead th {\n",
       "        text-align: left;\n",
       "    }\n",
       "\n",
       "    .dataframe tbody tr th {\n",
       "        vertical-align: top;\n",
       "    }\n",
       "</style>\n",
       "<table border=\"1\" class=\"dataframe\">\n",
       "  <thead>\n",
       "    <tr style=\"text-align: right;\">\n",
       "      <th></th>\n",
       "      <th>fiscal_year</th>\n",
       "      <th>last</th>\n",
       "      <th>first</th>\n",
       "      <th>m</th>\n",
       "      <th>department</th>\n",
       "      <th>title</th>\n",
       "      <th>regular</th>\n",
       "      <th>overtime</th>\n",
       "      <th>other</th>\n",
       "      <th>total</th>\n",
       "      <th>annual</th>\n",
       "      <th>termination</th>\n",
       "      <th></th>\n",
       "    </tr>\n",
       "  </thead>\n",
       "  <tbody>\n",
       "    <tr>\n",
       "      <th>0</th>\n",
       "      <td>2016</td>\n",
       "      <td>TOBEY</td>\n",
       "      <td>JAMES</td>\n",
       "      <td>A</td>\n",
       "      <td>U R I</td>\n",
       "      <td>NON CLASSIFIED</td>\n",
       "      <td>94392.28</td>\n",
       "      <td>0.00</td>\n",
       "      <td>638.76</td>\n",
       "      <td>95031.04</td>\n",
       "      <td>95031.04</td>\n",
       "      <td></td>\n",
       "      <td></td>\n",
       "    </tr>\n",
       "    <tr>\n",
       "      <th>1</th>\n",
       "      <td>2016</td>\n",
       "      <td>TOBEY</td>\n",
       "      <td>STEPHANIE</td>\n",
       "      <td>A</td>\n",
       "      <td>U R I</td>\n",
       "      <td>NON CLASSIFIED</td>\n",
       "      <td>3576.93</td>\n",
       "      <td>0.00</td>\n",
       "      <td>0.00</td>\n",
       "      <td>3576.93</td>\n",
       "      <td>62000.12</td>\n",
       "      <td></td>\n",
       "      <td></td>\n",
       "    </tr>\n",
       "    <tr>\n",
       "      <th>2</th>\n",
       "      <td>2016</td>\n",
       "      <td>TISDALE</td>\n",
       "      <td>JACQUELINE</td>\n",
       "      <td>M</td>\n",
       "      <td>U R I</td>\n",
       "      <td>NON CLASSIFIED</td>\n",
       "      <td>54243.32</td>\n",
       "      <td>0.00</td>\n",
       "      <td>362.10</td>\n",
       "      <td>54605.42</td>\n",
       "      <td>56000.1</td>\n",
       "      <td></td>\n",
       "      <td></td>\n",
       "    </tr>\n",
       "    <tr>\n",
       "      <th>3</th>\n",
       "      <td>2016</td>\n",
       "      <td>TIMPSON JR</td>\n",
       "      <td>DONALD</td>\n",
       "      <td>R</td>\n",
       "      <td>U R I</td>\n",
       "      <td>SR GARDENER</td>\n",
       "      <td>45509.76</td>\n",
       "      <td>4900.29</td>\n",
       "      <td>296.95</td>\n",
       "      <td>50707.00</td>\n",
       "      <td>45751.68</td>\n",
       "      <td></td>\n",
       "      <td></td>\n",
       "    </tr>\n",
       "    <tr>\n",
       "      <th>4</th>\n",
       "      <td>2016</td>\n",
       "      <td>TINER</td>\n",
       "      <td>JACQUELINE</td>\n",
       "      <td>N</td>\n",
       "      <td>U R I</td>\n",
       "      <td>HUMAN RESOURCES ANALYST I</td>\n",
       "      <td>68550.08</td>\n",
       "      <td>0.00</td>\n",
       "      <td>1001.00</td>\n",
       "      <td>69551.08</td>\n",
       "      <td>68904.42</td>\n",
       "      <td></td>\n",
       "      <td></td>\n",
       "    </tr>\n",
       "  </tbody>\n",
       "</table>\n",
       "</div>"
      ],
      "text/plain": [
       "   fiscal_year         last        first   m  department  \\\n",
       "0         2016        TOBEY        JAMES   A       U R I   \n",
       "1         2016        TOBEY    STEPHANIE   A       U R I   \n",
       "2         2016      TISDALE   JACQUELINE   M       U R I   \n",
       "3         2016   TIMPSON JR       DONALD   R       U R I   \n",
       "4         2016        TINER   JACQUELINE   N       U R I   \n",
       "\n",
       "                        title   regular   overtime    other     total  \\\n",
       "0              NON CLASSIFIED  94392.28       0.00   638.76  95031.04   \n",
       "1              NON CLASSIFIED   3576.93       0.00     0.00   3576.93   \n",
       "2              NON CLASSIFIED  54243.32       0.00   362.10  54605.42   \n",
       "3                 SR GARDENER  45509.76    4900.29   296.95  50707.00   \n",
       "4   HUMAN RESOURCES ANALYST I  68550.08       0.00  1001.00  69551.08   \n",
       "\n",
       "      annual  termination     \n",
       "0   95031.04                  \n",
       "1   62000.12                  \n",
       "2    56000.1                  \n",
       "3   45751.68                  \n",
       "4   68904.42                  "
      ]
     },
     "execution_count": 90,
     "metadata": {},
     "output_type": "execute_result"
    }
   ],
   "source": [
    "RI_data.head()"
   ]
  },
  {
   "cell_type": "markdown",
   "metadata": {},
   "source": [
    "Compare how department mean annual salary changes over fiscal year. Drop the middle initial column, it doesn't seem very useful."
   ]
  },
  {
   "cell_type": "code",
   "execution_count": 93,
   "metadata": {},
   "outputs": [
    {
     "ename": "NameError",
     "evalue": "name 'na' is not defined",
     "output_type": "error",
     "traceback": [
      "\u001b[0;31m---------------------------------------------------------------------------\u001b[0m",
      "\u001b[0;31mNameError\u001b[0m                                 Traceback (most recent call last)",
      "\u001b[0;32m<ipython-input-93-bcf587149847>\u001b[0m in \u001b[0;36m<module>\u001b[0;34m()\u001b[0m\n\u001b[1;32m     13\u001b[0m     \u001b[0;32mfor\u001b[0m \u001b[0mdept\u001b[0m \u001b[0;32min\u001b[0m \u001b[0mdepartments\u001b[0m\u001b[0;34m:\u001b[0m\u001b[0;34m\u001b[0m\u001b[0m\n\u001b[1;32m     14\u001b[0m         \u001b[0msubset\u001b[0m \u001b[0;34m=\u001b[0m \u001b[0mRI_data\u001b[0m\u001b[0;34m.\u001b[0m\u001b[0mloc\u001b[0m\u001b[0;34m[\u001b[0m \u001b[0;34m(\u001b[0m\u001b[0mRI_data\u001b[0m\u001b[0;34m[\u001b[0m\u001b[0;34m'fiscal_year'\u001b[0m\u001b[0;34m]\u001b[0m \u001b[0;34m==\u001b[0m \u001b[0myear\u001b[0m\u001b[0;34m)\u001b[0m \u001b[0;34m&\u001b[0m \u001b[0;34m(\u001b[0m\u001b[0mRI_data\u001b[0m\u001b[0;34m[\u001b[0m\u001b[0;34m' department'\u001b[0m\u001b[0;34m]\u001b[0m \u001b[0;34m==\u001b[0m \u001b[0mdept\u001b[0m\u001b[0;34m)\u001b[0m \u001b[0;34m]\u001b[0m\u001b[0;34m\u001b[0m\u001b[0m\n\u001b[0;32m---> 15\u001b[0;31m         \u001b[0mavg\u001b[0m \u001b[0;34m=\u001b[0m \u001b[0mnp\u001b[0m\u001b[0;34m.\u001b[0m\u001b[0mmean\u001b[0m\u001b[0;34m(\u001b[0m \u001b[0;34m[\u001b[0m \u001b[0mfloat\u001b[0m\u001b[0;34m(\u001b[0m\u001b[0mx\u001b[0m\u001b[0;34m,\u001b[0m \u001b[0mna\u001b[0m\u001b[0;34m.\u001b[0m\u001b[0mrm\u001b[0m\u001b[0;34m)\u001b[0m \u001b[0;32mfor\u001b[0m \u001b[0mx\u001b[0m \u001b[0;32min\u001b[0m \u001b[0msubset\u001b[0m\u001b[0;34m[\u001b[0m\u001b[0;34m' annual'\u001b[0m\u001b[0;34m]\u001b[0m \u001b[0;34m]\u001b[0m \u001b[0;34m)\u001b[0m\u001b[0;34m\u001b[0m\u001b[0m\n\u001b[0m\u001b[1;32m     16\u001b[0m         \u001b[0mprint\u001b[0m\u001b[0;34m(\u001b[0m \u001b[0mavg\u001b[0m \u001b[0;34m)\u001b[0m\u001b[0;34m\u001b[0m\u001b[0m\n\u001b[1;32m     17\u001b[0m         \u001b[0mmeans\u001b[0m\u001b[0;34m[\u001b[0m \u001b[0mdept_index\u001b[0m\u001b[0;34m.\u001b[0m\u001b[0mget_loc\u001b[0m\u001b[0;34m(\u001b[0m\u001b[0mdept\u001b[0m\u001b[0;34m)\u001b[0m\u001b[0;34m,\u001b[0m \u001b[0myear_index\u001b[0m\u001b[0;34m.\u001b[0m\u001b[0mget_loc\u001b[0m\u001b[0;34m(\u001b[0m\u001b[0myear\u001b[0m\u001b[0;34m)\u001b[0m \u001b[0;34m]\u001b[0m \u001b[0;34m=\u001b[0m \u001b[0mavg\u001b[0m\u001b[0;34m\u001b[0m\u001b[0m\n",
      "\u001b[0;32m<ipython-input-93-bcf587149847>\u001b[0m in \u001b[0;36m<listcomp>\u001b[0;34m(.0)\u001b[0m\n\u001b[1;32m     13\u001b[0m     \u001b[0;32mfor\u001b[0m \u001b[0mdept\u001b[0m \u001b[0;32min\u001b[0m \u001b[0mdepartments\u001b[0m\u001b[0;34m:\u001b[0m\u001b[0;34m\u001b[0m\u001b[0m\n\u001b[1;32m     14\u001b[0m         \u001b[0msubset\u001b[0m \u001b[0;34m=\u001b[0m \u001b[0mRI_data\u001b[0m\u001b[0;34m.\u001b[0m\u001b[0mloc\u001b[0m\u001b[0;34m[\u001b[0m \u001b[0;34m(\u001b[0m\u001b[0mRI_data\u001b[0m\u001b[0;34m[\u001b[0m\u001b[0;34m'fiscal_year'\u001b[0m\u001b[0;34m]\u001b[0m \u001b[0;34m==\u001b[0m \u001b[0myear\u001b[0m\u001b[0;34m)\u001b[0m \u001b[0;34m&\u001b[0m \u001b[0;34m(\u001b[0m\u001b[0mRI_data\u001b[0m\u001b[0;34m[\u001b[0m\u001b[0;34m' department'\u001b[0m\u001b[0;34m]\u001b[0m \u001b[0;34m==\u001b[0m \u001b[0mdept\u001b[0m\u001b[0;34m)\u001b[0m \u001b[0;34m]\u001b[0m\u001b[0;34m\u001b[0m\u001b[0m\n\u001b[0;32m---> 15\u001b[0;31m         \u001b[0mavg\u001b[0m \u001b[0;34m=\u001b[0m \u001b[0mnp\u001b[0m\u001b[0;34m.\u001b[0m\u001b[0mmean\u001b[0m\u001b[0;34m(\u001b[0m \u001b[0;34m[\u001b[0m \u001b[0mfloat\u001b[0m\u001b[0;34m(\u001b[0m\u001b[0mx\u001b[0m\u001b[0;34m,\u001b[0m \u001b[0mna\u001b[0m\u001b[0;34m.\u001b[0m\u001b[0mrm\u001b[0m\u001b[0;34m)\u001b[0m \u001b[0;32mfor\u001b[0m \u001b[0mx\u001b[0m \u001b[0;32min\u001b[0m \u001b[0msubset\u001b[0m\u001b[0;34m[\u001b[0m\u001b[0;34m' annual'\u001b[0m\u001b[0;34m]\u001b[0m \u001b[0;34m]\u001b[0m \u001b[0;34m)\u001b[0m\u001b[0;34m\u001b[0m\u001b[0m\n\u001b[0m\u001b[1;32m     16\u001b[0m         \u001b[0mprint\u001b[0m\u001b[0;34m(\u001b[0m \u001b[0mavg\u001b[0m \u001b[0;34m)\u001b[0m\u001b[0;34m\u001b[0m\u001b[0m\n\u001b[1;32m     17\u001b[0m         \u001b[0mmeans\u001b[0m\u001b[0;34m[\u001b[0m \u001b[0mdept_index\u001b[0m\u001b[0;34m.\u001b[0m\u001b[0mget_loc\u001b[0m\u001b[0;34m(\u001b[0m\u001b[0mdept\u001b[0m\u001b[0;34m)\u001b[0m\u001b[0;34m,\u001b[0m \u001b[0myear_index\u001b[0m\u001b[0;34m.\u001b[0m\u001b[0mget_loc\u001b[0m\u001b[0;34m(\u001b[0m\u001b[0myear\u001b[0m\u001b[0;34m)\u001b[0m \u001b[0;34m]\u001b[0m \u001b[0;34m=\u001b[0m \u001b[0mavg\u001b[0m\u001b[0;34m\u001b[0m\u001b[0m\n",
      "\u001b[0;31mNameError\u001b[0m: name 'na' is not defined"
     ]
    }
   ],
   "source": [
    "# RI_data.columns\n",
    "# RI_data = RI_data.drop(' m', axis=1)\n",
    "\n",
    "years = RI_data['fiscal_year'].unique()\n",
    "departments = RI_data[' department'].unique()\n",
    "\n",
    "year_index = pd.Index(years)\n",
    "dept_index = pd.Index(departments)\n",
    "\n",
    "means = np.empty(shape = [len(departments), len(years)])\n",
    "\n",
    "for year in years:\n",
    "    for dept in departments:\n",
    "        subset = RI_data.loc[ (RI_data['fiscal_year'] == year) & (RI_data[' department'] == dept) ]\n",
    "        avg = np.mean( [ float(x) for x in subset[' annual'] ] )\n",
    "        print( avg )\n",
    "        means[ dept_index.get_loc(dept), year_index.get_loc(year) ] = avg\n",
    "        \n",
    "# some na errors need to be fixed still"
   ]
  },
  {
   "cell_type": "code",
   "execution_count": 105,
   "metadata": {},
   "outputs": [
    {
     "data": {
      "text/plain": [
       "array([  2.32802090e-314,   2.32838217e-314,   2.32807343e-314,\n",
       "         2.32804898e-314,   2.32837976e-314,   2.32798947e-314,\n",
       "         2.32803776e-314,   2.32799302e-314])"
      ]
     },
     "execution_count": 105,
     "metadata": {},
     "output_type": "execute_result"
    }
   ],
   "source": [
    "# a department where salary isn't changing over time\n",
    "\n",
    "means[1, 0:len(years)]"
   ]
  },
  {
   "cell_type": "code",
   "execution_count": 112,
   "metadata": {},
   "outputs": [
    {
     "data": {
      "image/png": "[encoded data removed]",
      "text/plain": [
       "<matplotlib.figure.Figure at 0x113e3ba90>"
      ]
     },
     "metadata": {},
     "output_type": "display_data"
    }
   ],
   "source": [
    "import matplotlib.pyplot as pplot\n",
    "\n",
    "x = (1,2,3,4,5,6,7,8)\n",
    "pplot.plot(x, means[1, 0:len(years)])\n",
    "pplot.show()"
   ]
  },
  {
   "cell_type": "code",
   "execution_count": 118,
   "metadata": {},
   "outputs": [
    {
     "data": {
      "text/plain": [
       "array([  2.32802353e-314,   2.32838058e-314,   2.32802650e-314,\n",
       "         2.32841492e-314,   2.32836013e-314,   2.32842232e-314,\n",
       "         2.32363038e-314,   2.32806230e-314])"
      ]
     },
     "execution_count": 118,
     "metadata": {},
     "output_type": "execute_result"
    }
   ],
   "source": [
    "means[26, 0:len(years)]"
   ]
  },
  {
   "cell_type": "code",
   "execution_count": null,
   "metadata": {
    "collapsed": true
   },
   "outputs": [],
   "source": []
  }
 ],
 "metadata": {
  "kernelspec": {
   "display_name": "Python 3",
   "language": "python",
   "name": "python3"
  },
  "language_info": {
   "codemirror_mode": {
    "name": "ipython",
    "version": 3
   },
   "file_extension": ".py",
   "mimetype": "text/x-python",
   "name": "python",
   "nbconvert_exporter": "python",
   "pygments_lexer": "ipython3",
   "version": "3.6.3"
  }
 },
 "nbformat": 4,
 "nbformat_minor": 2
}
